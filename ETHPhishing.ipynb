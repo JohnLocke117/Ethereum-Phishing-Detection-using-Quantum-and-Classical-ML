{
 "cells": [
  {
   "cell_type": "code",
   "execution_count": 29,
   "id": "3b566ef4-510c-4123-ad5c-37a82e850cbe",
   "metadata": {
    "tags": []
   },
   "outputs": [],
   "source": [
    "# Importing standard Qiskit libraries\n",
    "from qiskit import QuantumCircuit, transpile\n",
    "from qiskit.tools.jupyter import *\n",
    "from qiskit.visualization import *\n",
    "from ibm_quantum_widgets import *\n",
    "from qiskit_aer import AerSimulator\n",
    "\n",
    "# qiskit-ibmq-provider has been deprecated.\n",
    "# Please see the Migration Guides in https://ibm.biz/provider_migration_guide for more detail.\n",
    "from qiskit_ibm_runtime import QiskitRuntimeService, Sampler, Estimator, Session, Options\n",
    "\n",
    "# Loading your IBM Quantum account(s)\n",
    "service = QiskitRuntimeService(channel=\"ibm_quantum\")\n",
    "\n",
    "# Invoke a primitive inside a session. For more details see https://qiskit.org/documentation/partners/qiskit_ibm_runtime/tutorials.html\n",
    "# with Session(backend=service.backend(\"ibmq_qasm_simulator\")):\n",
    "#     result = Sampler().run(circuits).result()"
   ]
  },
  {
   "cell_type": "code",
   "execution_count": 30,
   "id": "7aefdde9-a5e3-4733-bda1-ed7edd763f3e",
   "metadata": {
    "tags": []
   },
   "outputs": [
    {
     "name": "stdout",
     "output_type": "stream",
     "text": [
      "Requirement already satisfied: lightgbm in /opt/conda/lib/python3.10/site-packages (3.3.5)\n",
      "Requirement already satisfied: scipy in /opt/conda/lib/python3.10/site-packages (from lightgbm) (1.9.3)\n",
      "Requirement already satisfied: scikit-learn!=0.22.0 in /opt/conda/lib/python3.10/site-packages (from lightgbm) (1.2.2)\n",
      "Requirement already satisfied: wheel in /opt/conda/lib/python3.10/site-packages (from lightgbm) (0.38.4)\n",
      "Requirement already satisfied: numpy in /opt/conda/lib/python3.10/site-packages (from lightgbm) (1.23.5)\n",
      "Requirement already satisfied: joblib>=1.1.1 in /opt/conda/lib/python3.10/site-packages (from scikit-learn!=0.22.0->lightgbm) (1.2.0)\n",
      "Requirement already satisfied: threadpoolctl>=2.0.0 in /opt/conda/lib/python3.10/site-packages (from scikit-learn!=0.22.0->lightgbm) (3.1.0)\n",
      "\n",
      "\u001b[1m[\u001b[0m\u001b[34;49mnotice\u001b[0m\u001b[1;39;49m]\u001b[0m\u001b[39;49m A new release of pip available: \u001b[0m\u001b[31;49m23.1.1\u001b[0m\u001b[39;49m -> \u001b[0m\u001b[32;49m23.1.2\u001b[0m\n",
      "\u001b[1m[\u001b[0m\u001b[34;49mnotice\u001b[0m\u001b[1;39;49m]\u001b[0m\u001b[39;49m To update, run: \u001b[0m\u001b[32;49mpip install --upgrade pip\u001b[0m\n"
     ]
    }
   ],
   "source": [
    "!pip install lightgbm"
   ]
  },
  {
   "cell_type": "code",
   "execution_count": 31,
   "id": "5cd7d699-f37d-4b1e-90cc-957e274a12cd",
   "metadata": {
    "tags": []
   },
   "outputs": [],
   "source": [
    "from qiskit import BasicAer\n",
    "from qiskit.utils import QuantumInstance, algorithm_globals\n",
    "from qiskit.algorithms.optimizers import COBYLA\n",
    "from qiskit.circuit.library import TwoLocal\n",
    "from qiskit_machine_learning.algorithms import VQC, QSVC\n",
    "from qiskit_machine_learning.circuit.library import RawFeatureVector\n",
    "from qiskit.circuit.library import RealAmplitudes, ZZFeatureMap, ZFeatureMap, NLocal\n",
    "from qiskit import QuantumCircuit\n",
    "from qiskit.circuit import Parameter\n",
    "from qiskit_machine_learning.kernels import QuantumKernel"
   ]
  },
  {
   "cell_type": "code",
   "execution_count": 32,
   "id": "c103ff45-2837-4a26-8cc4-b6579e4e82e4",
   "metadata": {
    "tags": []
   },
   "outputs": [],
   "source": [
    "import numpy as np\n",
    "from sklearn import svm, metrics\n",
    "from sklearn.model_selection import RandomizedSearchCV, GridSearchCV\n",
    "from sklearn.pipeline import Pipeline\n",
    "from sklearn.preprocessing import StandardScaler\n",
    "from qiskit_machine_learning.circuit.library import RawFeatureVector\n",
    "from qiskit_machine_learning.algorithms import VQC, QSVC\n",
    "from sklearn.metrics import classification_report, confusion_matrix\n",
    "from time import time\n",
    "from sklearn.linear_model import LogisticRegression\n",
    "import lightgbm as lgb"
   ]
  },
  {
   "cell_type": "markdown",
   "id": "24704edf-7ef3-44ca-865e-92c712bb7b58",
   "metadata": {},
   "source": [
    "## Loading up the Datsets:"
   ]
  },
  {
   "cell_type": "code",
   "execution_count": 33,
   "id": "8c3b98b3-5f3f-4eb1-8f6b-dcc6688ccf22",
   "metadata": {
    "tags": []
   },
   "outputs": [],
   "source": [
    "train_data = np.load('train_data.npy')\n",
    "train_labels = np.load('train_labels.npy')\n",
    "test_data = np.load('test_data.npy')\n",
    "test_labels = np.load('test_labels.npy')\n",
    "train_data = train_data[:320]\n",
    "train_labels = train_labels[:320]"
   ]
  },
  {
   "cell_type": "markdown",
   "id": "e1bdbf28-8b00-47f9-bffa-ef8739667153",
   "metadata": {},
   "source": [
    "## Training a Classical SVM model:"
   ]
  },
  {
   "cell_type": "code",
   "execution_count": 34,
   "id": "26d3fa85-e4cf-48eb-94dd-fad66445354f",
   "metadata": {
    "tags": []
   },
   "outputs": [
    {
     "name": "stdout",
     "output_type": "stream",
     "text": [
      "*** Training a classical SVM classifier with rbf Kernel ***\n",
      "training time for classical SVM :  0.004880428314208984\n",
      "[[9676  324]\n",
      " [ 559  441]]\n",
      "              precision    recall  f1-score   support\n",
      "\n",
      "           0       0.95      0.97      0.96     10000\n",
      "           1       0.58      0.44      0.50      1000\n",
      "\n",
      "    accuracy                           0.92     11000\n",
      "   macro avg       0.76      0.70      0.73     11000\n",
      "weighted avg       0.91      0.92      0.91     11000\n",
      "\n"
     ]
    }
   ],
   "source": [
    "#training classical SVM with rbf kernel\n",
    "\n",
    "print(\"*** Training a classical SVM classifier with rbf Kernel ***\")\n",
    "\n",
    "#converting two dimensional labels to 1D\n",
    "train_labels_svm = train_labels[:,0]\n",
    "test_labels_svm = test_labels[:,0]\n",
    "\n",
    "clf = svm.SVC(kernel='rbf')\n",
    "start_time = time()\n",
    "clf.fit(train_data, train_labels_svm)\n",
    "end_time = time()\n",
    "duration = end_time - start_time\n",
    "print(\"training time for classical SVM : \", duration)\n",
    "y_pred=clf.predict(test_data)\n",
    "print(confusion_matrix(test_labels_svm, y_pred))\n",
    "print(classification_report(test_labels_svm, y_pred))"
   ]
  },
  {
   "cell_type": "code",
   "execution_count": 35,
   "id": "77c72d88-f24f-49c7-8d4b-71ff383f5be9",
   "metadata": {
    "tags": []
   },
   "outputs": [
    {
     "data": {
      "text/plain": [
       "array([1, 0, 0, ..., 0, 0, 0])"
      ]
     },
     "execution_count": 35,
     "metadata": {},
     "output_type": "execute_result"
    }
   ],
   "source": [
    "# Output:\n",
    "y_pred"
   ]
  },
  {
   "cell_type": "markdown",
   "id": "923875a5-4e31-4d43-89ab-df41e4c165f9",
   "metadata": {},
   "source": [
    "## Training a Hypertuned LGBM Model:"
   ]
  },
  {
   "cell_type": "code",
   "execution_count": 36,
   "id": "a3c0c4dc-df6f-4af2-aa4a-7c7514d41e64",
   "metadata": {
    "tags": []
   },
   "outputs": [
    {
     "name": "stdout",
     "output_type": "stream",
     "text": [
      "Best Parameters: {'num_leaves': 100, 'n_estimators': 200, 'learning_rate': 0.01}\n",
      "Best Score: 0.9376065361782167\n",
      "Training time: 0.21143269538879395\n",
      "Testing time: 0.018830299377441406\n",
      "              precision    recall  f1-score   support\n",
      "\n",
      "           0       1.00      0.92      0.96     10000\n",
      "           1       0.56      0.97      0.71      1000\n",
      "\n",
      "    accuracy                           0.93     11000\n",
      "   macro avg       0.78      0.94      0.83     11000\n",
      "weighted avg       0.96      0.93      0.94     11000\n",
      "\n",
      "[[9239  761]\n",
      " [  34  966]]\n"
     ]
    }
   ],
   "source": [
    "# Hyperparameter tuning for LGBMClassifier using RandomizedSearchCV\n",
    "param_grid = {\n",
    "    'num_leaves': [31, 50, 100],\n",
    "    'learning_rate': [0.1, 0.01, 0.001],\n",
    "    'n_estimators': [100, 200, 300],\n",
    "}\n",
    "\n",
    "clf = lgb.LGBMClassifier()\n",
    "random_search = RandomizedSearchCV(clf, param_distributions=param_grid, n_iter=10, cv=3, scoring='accuracy')\n",
    "random_search.fit(train_data, train_labels_svm)\n",
    "\n",
    "print(\"Best Parameters:\", random_search.best_params_)\n",
    "print(\"Best Score:\", random_search.best_score_)\n",
    "\n",
    "best_model = random_search.best_estimator_\n",
    "\n",
    "# Training the best model on the appended train data\n",
    "start_time = time()\n",
    "best_model.fit(train_data, train_labels_svm)\n",
    "end_time = time()\n",
    "duration = end_time - start_time\n",
    "print(\"Training time:\", duration)\n",
    "\n",
    "# Predicting on the appended test data using the best model\n",
    "start_time1 = time()\n",
    "y_pred_1 = best_model.predict(test_data)\n",
    "end_time1 = time()\n",
    "duration1 = end_time1 - start_time1\n",
    "print(\"Testing time:\", duration1)\n",
    "print(classification_report(test_labels_svm, y_pred_1))\n",
    "print(confusion_matrix(test_labels_svm, y_pred_1))"
   ]
  },
  {
   "cell_type": "code",
   "execution_count": 37,
   "id": "fb3f73fc-aa02-47d4-96c4-b37f9558f726",
   "metadata": {
    "tags": []
   },
   "outputs": [
    {
     "data": {
      "text/plain": [
       "array([1, 1, 1, ..., 0, 0, 0])"
      ]
     },
     "execution_count": 37,
     "metadata": {},
     "output_type": "execute_result"
    }
   ],
   "source": [
    "# Output:\n",
    "y_pred_1"
   ]
  },
  {
   "cell_type": "markdown",
   "id": "85e5cea5-e77c-413f-b805-17ca7ec511cc",
   "metadata": {},
   "source": [
    "## Training a SVM Model with Hyperparameter Tuning:"
   ]
  },
  {
   "cell_type": "code",
   "execution_count": 38,
   "id": "bcec128f-9ec9-4e09-8500-47c21fb569e1",
   "metadata": {
    "tags": []
   },
   "outputs": [
    {
     "name": "stderr",
     "output_type": "stream",
     "text": [
      "/tmp/ipykernel_60/613815345.py:10: DeprecationWarning: The class ``qiskit.utils.quantum_instance.QuantumInstance`` is deprecated as of qiskit-terra 0.24.0. It will be removed no earlier than 3 months after the release date. For code migration guidelines, visit https://qisk.it/qi_migration.\n",
      "  quantum_instance=QuantumInstance(BasicAer.get_backend('statevector_simulator'),\n"
     ]
    },
    {
     "name": "stdout",
     "output_type": "stream",
     "text": [
      "Best Parameters: {'classifier__C': 100.0, 'classifier__gamma': 1.0}\n",
      "Best Score: 0.8438840886381002\n",
      "[[9386  614]\n",
      " [ 193  807]]\n",
      "              precision    recall  f1-score   support\n",
      "\n",
      "           0       0.98      0.94      0.96     10000\n",
      "           1       0.57      0.81      0.67      1000\n",
      "\n",
      "    accuracy                           0.93     11000\n",
      "   macro avg       0.77      0.87      0.81     11000\n",
      "weighted avg       0.94      0.93      0.93     11000\n",
      "\n"
     ]
    }
   ],
   "source": [
    "from sklearn.pipeline import Pipeline\n",
    "from sklearn.preprocessing import StandardScaler\n",
    "from sklearn.linear_model import LogisticRegression\n",
    "from sklearn.model_selection import GridSearchCV\n",
    "from sklearn import metrics\n",
    "\n",
    "# Define the base classifiers\n",
    "svm_classifier = svm.SVC(kernel='rbf')\n",
    "quantum_kernel = QSVC(quantum_kernel=QuantumKernel(feature_map=ZZFeatureMap(train_data.shape[1]),\n",
    "                                                   quantum_instance=QuantumInstance(BasicAer.get_backend('statevector_simulator'),\n",
    "                                                                                   shots=1,\n",
    "                                                                                   seed_simulator=1376,\n",
    "                                                                                   seed_transpiler=1376)))\n",
    "\n",
    "# Define the pipeline for feature appending and model training\n",
    "pipeline = Pipeline([\n",
    "    ('scaler', StandardScaler()),  # Optional: Apply standard scaling\n",
    "    ('classifier', svm_classifier),\n",
    "])\n",
    "\n",
    "# Define the parameter grid for hyperparameter tuning\n",
    "param_grid = {\n",
    "    'classifier__C': [10.0, 10.0, 100.0, 100.0],\n",
    "    'classifier__gamma': ['scale', 'auto',0.001, 0.01,0.1,1.0],\n",
    "}\n",
    "\n",
    "# Perform hyperparameter tuning using GridSearchCV\n",
    "grid_search = GridSearchCV(pipeline, param_grid, cv=3, scoring='accuracy')\n",
    "grid_search.fit(train_data, train_labels_svm)\n",
    "\n",
    "print(\"Best Parameters:\", grid_search.best_params_)\n",
    "print(\"Best Score:\", grid_search.best_score_)\n",
    "\n",
    "# Get the best model from the grid search\n",
    "best_model = grid_search.best_estimator_\n",
    "\n",
    "# Train the best model\n",
    "best_model.fit(train_data, train_labels_svm)\n",
    "\n",
    "# Predict on the test data\n",
    "y_pred = best_model.predict(test_data)\n",
    "print(metrics.confusion_matrix(test_labels_svm, y_pred))\n",
    "print(metrics.classification_report(test_labels_svm, y_pred))\n"
   ]
  },
  {
   "cell_type": "code",
   "execution_count": 39,
   "id": "838213f3-99cb-489a-b75b-216c92ca8f40",
   "metadata": {
    "tags": []
   },
   "outputs": [
    {
     "data": {
      "text/plain": [
       "array([1, 0, 1, ..., 0, 0, 0])"
      ]
     },
     "execution_count": 39,
     "metadata": {},
     "output_type": "execute_result"
    }
   ],
   "source": [
    "# Output:\n",
    "y_pred"
   ]
  },
  {
   "cell_type": "markdown",
   "id": "f5fe53fe-235f-40ec-b8ac-ad4672a95328",
   "metadata": {},
   "source": [
    "## Stacking with VQC as base classifier and QSVM as meta classifier"
   ]
  },
  {
   "cell_type": "code",
   "execution_count": 40,
   "id": "8472ae66-5984-40a7-b7f1-bd88ecfac2bc",
   "metadata": {
    "tags": []
   },
   "outputs": [],
   "source": [
    "import numpy as np\n",
    "from sklearn import svm, metrics\n",
    "from sklearn.metrics import classification_report, confusion_matrix\n",
    "from time import time\n",
    "from sklearn.linear_model import LogisticRegression"
   ]
  },
  {
   "cell_type": "code",
   "execution_count": 41,
   "id": "732226ec-6440-4fdd-af61-05141dacb235",
   "metadata": {
    "tags": []
   },
   "outputs": [],
   "source": [
    "train_data = np.load('train_data.npy')\n",
    "train_labels = np.load('train_labels.npy')\n",
    "test_data = np.load('test_data.npy')\n",
    "test_labels = np.load('test_labels.npy')\n",
    "train_data = train_data[:320]\n",
    "train_labels = train_labels[:320]"
   ]
  },
  {
   "cell_type": "code",
   "execution_count": 42,
   "id": "19c88abe-a8d8-48d3-a92f-f97b74f73085",
   "metadata": {
    "tags": []
   },
   "outputs": [
    {
     "name": "stderr",
     "output_type": "stream",
     "text": [
      "/tmp/ipykernel_60/2797609897.py:16: DeprecationWarning: The class ``qiskit.utils.quantum_instance.QuantumInstance`` is deprecated as of qiskit-terra 0.24.0. It will be removed no earlier than 3 months after the release date. For code migration guidelines, visit https://qisk.it/qi_migration.\n",
      "  quantum_instance=QuantumInstance(BasicAer.get_backend('statevector_simulator'),\n",
      "/tmp/ipykernel_60/2797609897.py:23: DeprecationWarning: The class ``qiskit.utils.quantum_instance.QuantumInstance`` is deprecated as of qiskit-terra 0.24.0. It will be removed no earlier than 3 months after the release date. For code migration guidelines, visit https://qisk.it/qi_migration.\n",
      "  quantum_instance=QuantumInstance(BasicAer.get_backend('statevector_simulator'),\n"
     ]
    }
   ],
   "source": [
    "seed = 1376\n",
    "\n",
    "#feature dimensions\n",
    "feature_dim = train_data.shape[1]\n",
    "\n",
    "#feature map of VQC and QSVM\n",
    "feature_map = ZZFeatureMap(feature_dim)\n",
    "\n",
    "#ansatz we use in VQC\n",
    "ansatz = TwoLocal(feature_dim, ['ry', 'rz'], 'cz', reps = 2)\n",
    "\n",
    "#initialize VQC\n",
    "vqc = VQC(feature_map=feature_map,\n",
    "                 ansatz=ansatz,\n",
    "                 optimizer=COBYLA(maxiter=100),\n",
    "                 quantum_instance=QuantumInstance(BasicAer.get_backend('statevector_simulator'),\n",
    "                                                 seed_simulator=seed,\n",
    "                                                 seed_transpiler=seed)\n",
    "                 )\n",
    "\n",
    "#initialize kernel of QSVM\n",
    "kernel = QuantumKernel(feature_map=feature_map,\n",
    "                             quantum_instance=QuantumInstance(BasicAer.get_backend('statevector_simulator'),\n",
    "                                            shots=1,\n",
    "                                            seed_simulator=seed,\n",
    "                                                              seed_transpiler=seed))\n",
    "\n",
    "#initialize QSVM\n",
    "qsvc = QSVC(quantum_kernel=kernel)"
   ]
  },
  {
   "cell_type": "code",
   "execution_count": 43,
   "id": "b3c53312-58da-44bd-9add-d4652fa5d9b8",
   "metadata": {
    "tags": []
   },
   "outputs": [],
   "source": [
    "#train base classifiers and append features to data\n",
    "\n",
    "def level_0():\n",
    "    \n",
    "    #Use VQC and train data, append the predicted labels on train data to train data features \n",
    "    vqc.fit(train_data, train_labels)\n",
    "    a = vqc.predict(train_data)\n",
    "    label_1 = np.delete(a,1,1)\n",
    "    train_added = np.append(train_data,label_1,1)\n",
    "    \n",
    "    #append the predicted labels on test data to test data features\n",
    "    d = vqc.predict(test_data)\n",
    "    label_4 = np.delete(d,1,1)\n",
    "    test_added = np.append(test_data,label_4,1)\n",
    "    \n",
    "    return train_added,test_added"
   ]
  },
  {
   "cell_type": "code",
   "execution_count": 44,
   "id": "2dc74142-07b5-428d-9d75-292c83dd351c",
   "metadata": {
    "tags": []
   },
   "outputs": [
    {
     "name": "stdout",
     "output_type": "stream",
     "text": [
      "training time :  1057.1317100524902\n"
     ]
    }
   ],
   "source": [
    "#get appended train and test data\n",
    "\n",
    "start_time = time()\n",
    "train_added, test_added = level_0()\n",
    "end_time = time()\n",
    "duration = end_time - start_time\n",
    "print(\"training time : \", duration)"
   ]
  },
  {
   "cell_type": "code",
   "execution_count": 45,
   "id": "36fa5709-f3a8-4632-8b63-f64d130bf435",
   "metadata": {
    "tags": []
   },
   "outputs": [
    {
     "name": "stdout",
     "output_type": "stream",
     "text": [
      "training_data (320, 7)\n",
      "training time :  5.808392286300659\n"
     ]
    }
   ],
   "source": [
    "#use meta classifier QSVM on appended train data\n",
    "\n",
    "start_time = time()\n",
    "print(\"training_data\", train_data.shape)\n",
    "qsvc.fit(train_added, train_labels_svm)\n",
    "end_time = time()\n",
    "duration = end_time - start_time\n",
    "print(\"training time : \", duration)"
   ]
  },
  {
   "cell_type": "code",
   "execution_count": 46,
   "id": "6565215f-9d4a-4e7f-a92f-06c4c0d3a0b7",
   "metadata": {
    "tags": []
   },
   "outputs": [
    {
     "name": "stdout",
     "output_type": "stream",
     "text": [
      "testing time :  235.5610692501068\n",
      "              precision    recall  f1-score   support\n",
      "\n",
      "           0       1.00      0.72      0.84     10000\n",
      "           1       0.26      0.98      0.41      1000\n",
      "\n",
      "    accuracy                           0.75     11000\n",
      "   macro avg       0.63      0.85      0.63     11000\n",
      "weighted avg       0.93      0.75      0.80     11000\n",
      "\n",
      "[[7243 2757]\n",
      " [  21  979]]\n"
     ]
    }
   ],
   "source": [
    "# predict using QSVM meta classifier on appended test data\n",
    "\n",
    "start_time1 = time()\n",
    "y_pred_1 = qsvc.predict(test_added)\n",
    "end_time1 = time()\n",
    "duration1 = end_time1 - start_time1\n",
    "print(\"testing time : \", duration1)\n",
    "print(classification_report(test_labels_svm,y_pred_1))\n",
    "print(confusion_matrix(test_labels_svm,y_pred_1))"
   ]
  },
  {
   "cell_type": "code",
   "execution_count": 47,
   "id": "96991268-0e9a-4f99-8d10-927a9a0a536d",
   "metadata": {
    "tags": []
   },
   "outputs": [
    {
     "data": {
      "text/plain": [
       "array([1, 1, 1, ..., 1, 0, 0])"
      ]
     },
     "execution_count": 47,
     "metadata": {},
     "output_type": "execute_result"
    }
   ],
   "source": [
    "# Output:\n",
    "y_pred_1"
   ]
  },
  {
   "cell_type": "markdown",
   "id": "0948de0d-f0af-4f75-9508-3ea0291b7fdf",
   "metadata": {},
   "source": [
    "## Stacking with VQC as base classifier and LGBM as meta classifier"
   ]
  },
  {
   "cell_type": "code",
   "execution_count": 48,
   "id": "a6c91b78-824c-4eee-a86b-f6d7ea3c0dc5",
   "metadata": {
    "tags": []
   },
   "outputs": [],
   "source": [
    "from qiskit import BasicAer\n",
    "from qiskit.utils import QuantumInstance, algorithm_globals\n",
    "from qiskit.algorithms.optimizers import COBYLA\n",
    "from qiskit.circuit.library import TwoLocal\n",
    "from qiskit_machine_learning.algorithms import VQC\n",
    "from qiskit_machine_learning.circuit.library import RawFeatureVector\n",
    "from qiskit.circuit.library import RealAmplitudes, ZZFeatureMap, ZFeatureMap, NLocal\n",
    "from qiskit import QuantumCircuit\n",
    "from qiskit.circuit import Parameter"
   ]
  },
  {
   "cell_type": "code",
   "execution_count": 49,
   "id": "41d4c44a-b9c7-40fd-ad8b-2510e6af4499",
   "metadata": {
    "tags": []
   },
   "outputs": [],
   "source": [
    "import numpy as np\n",
    "from sklearn import svm, metrics\n",
    "from sklearn.metrics import classification_report, confusion_matrix\n",
    "from time import time\n",
    "import lightgbm as lgb"
   ]
  },
  {
   "cell_type": "code",
   "execution_count": 50,
   "id": "b48cec57-5f71-439b-beff-ff851ba345f6",
   "metadata": {
    "tags": []
   },
   "outputs": [],
   "source": [
    "train_data = np.load('train_data.npy')\n",
    "train_labels = np.load('train_labels.npy')\n",
    "test_data = np.load('test_data.npy')\n",
    "test_labels = np.load('test_labels.npy')\n",
    "train_data = train_data[:320]\n",
    "train_labels = train_labels[:320]"
   ]
  },
  {
   "cell_type": "code",
   "execution_count": 51,
   "id": "e6a8058c-9d5f-4bce-b5e7-ef116910345c",
   "metadata": {
    "tags": []
   },
   "outputs": [
    {
     "name": "stderr",
     "output_type": "stream",
     "text": [
      "/tmp/ipykernel_60/2458302028.py:16: DeprecationWarning: The class ``qiskit.utils.quantum_instance.QuantumInstance`` is deprecated as of qiskit-terra 0.24.0. It will be removed no earlier than 3 months after the release date. For code migration guidelines, visit https://qisk.it/qi_migration.\n",
      "  quantum_instance=QuantumInstance(BasicAer.get_backend('statevector_simulator'),\n"
     ]
    }
   ],
   "source": [
    "seed = 1376\n",
    "\n",
    "#feature dimensions\n",
    "feature_dim = train_data.shape[1]\n",
    "\n",
    "#feature map of VQC\n",
    "feature_map = ZZFeatureMap(feature_dim)\n",
    "\n",
    "#ansatz we use in VQC\n",
    "ansatz = TwoLocal(feature_dim, ['ry', 'rz'], 'cz', reps = 2)\n",
    "\n",
    "#initialize VQC\n",
    "vqc = VQC(feature_map=feature_map,\n",
    "                 ansatz=ansatz,\n",
    "                 optimizer=COBYLA(maxiter=100),\n",
    "                 quantum_instance=QuantumInstance(BasicAer.get_backend('statevector_simulator'),\n",
    "                                                 seed_simulator=seed,\n",
    "                                                 seed_transpiler=seed)\n",
    "                 )\n",
    "\n",
    "#initialize LGBM classifier\n",
    "clf = lgb.LGBMClassifier()"
   ]
  },
  {
   "cell_type": "code",
   "execution_count": 52,
   "id": "e1731e1b-68a0-44de-bbcd-a8510f32ad6f",
   "metadata": {
    "tags": []
   },
   "outputs": [],
   "source": [
    "#train base classifiers and append features to data\n",
    "\n",
    "def level_0():\n",
    "    \n",
    "    #Use VQC and train data, append the predicted labels on train data to train data features \n",
    "    vqc.fit(train_data, train_labels)\n",
    "    a = vqc.predict(train_data)\n",
    "    label_1 = np.delete(a,1,1)\n",
    "    train_added = np.append(train_data,label_1,1)\n",
    "    \n",
    "    #append the predicted labels on test data to test data features\n",
    "    d = vqc.predict(test_data)\n",
    "    label_4 = np.delete(d,1,1)\n",
    "    test_added = np.append(test_data,label_4,1)\n",
    "    \n",
    "    return train_added,test_added"
   ]
  },
  {
   "cell_type": "code",
   "execution_count": 53,
   "id": "169d0024-e73d-42d4-85ee-ff6c1b048bf2",
   "metadata": {
    "tags": []
   },
   "outputs": [
    {
     "name": "stdout",
     "output_type": "stream",
     "text": [
      "training time :  1161.5444765090942\n"
     ]
    }
   ],
   "source": [
    "#get appended train and test data\n",
    "\n",
    "start_time = time()\n",
    "train_added, test_added = level_0()\n",
    "end_time = time()\n",
    "duration = end_time - start_time\n",
    "print(\"training time : \", duration)"
   ]
  },
  {
   "cell_type": "code",
   "execution_count": 54,
   "id": "62d52d13-536e-4a51-ab56-2af3f2497b46",
   "metadata": {
    "tags": []
   },
   "outputs": [
    {
     "name": "stdout",
     "output_type": "stream",
     "text": [
      "training_data (320, 7)\n",
      "training time :  0.06425237655639648\n"
     ]
    }
   ],
   "source": [
    "#use meta classifier LGBM on appended train data\n",
    "\n",
    "start_time = time()\n",
    "print(\"training_data\", train_data.shape)\n",
    "clf.fit(train_added, train_labels_svm)\n",
    "end_time = time()\n",
    "duration = end_time - start_time\n",
    "print(\"training time : \", duration)"
   ]
  },
  {
   "cell_type": "code",
   "execution_count": 55,
   "id": "4e082b38-ba66-42b0-ab43-40e624e6eada",
   "metadata": {
    "tags": []
   },
   "outputs": [
    {
     "name": "stdout",
     "output_type": "stream",
     "text": [
      "testing time :  0.02468395233154297\n",
      "              precision    recall  f1-score   support\n",
      "\n",
      "           0       1.00      0.90      0.95     10000\n",
      "           1       0.50      0.97      0.66      1000\n",
      "\n",
      "    accuracy                           0.91     11000\n",
      "   macro avg       0.75      0.94      0.81     11000\n",
      "weighted avg       0.95      0.91      0.92     11000\n",
      "\n",
      "[[9039  961]\n",
      " [  26  974]]\n"
     ]
    }
   ],
   "source": [
    "# predict on appended test data\n",
    "\n",
    "start_time1 = time()\n",
    "y_pred_1 = clf.predict(test_added)\n",
    "end_time1 = time()\n",
    "duration1 = end_time1 - start_time1\n",
    "print(\"testing time : \", duration1)\n",
    "print(classification_report(test_labels_svm,y_pred_1))\n",
    "print(confusion_matrix(test_labels_svm,y_pred_1))"
   ]
  },
  {
   "cell_type": "code",
   "execution_count": 56,
   "id": "e9f1298a-c226-4ce4-b032-f8637af40cfa",
   "metadata": {
    "tags": []
   },
   "outputs": [
    {
     "data": {
      "text/plain": [
       "array([1, 1, 1, ..., 0, 0, 0])"
      ]
     },
     "execution_count": 56,
     "metadata": {},
     "output_type": "execute_result"
    }
   ],
   "source": [
    "# Output:\n",
    "y_pred_1"
   ]
  },
  {
   "cell_type": "markdown",
   "id": "4daf0a42-10e2-49e1-a018-6a5dadfdb667",
   "metadata": {},
   "source": [
    "## Stacking with QSVM and LGBM as base classifiers and Logistic regressor(LR) as meta classifier"
   ]
  },
  {
   "cell_type": "code",
   "execution_count": 57,
   "id": "5d922719-9d0b-4980-bc08-b269a93d95f9",
   "metadata": {
    "tags": []
   },
   "outputs": [],
   "source": [
    "from qiskit import BasicAer\n",
    "from qiskit.utils import QuantumInstance, algorithm_globals\n",
    "from qiskit.algorithms.optimizers import COBYLA\n",
    "from qiskit.circuit.library import TwoLocal\n",
    "from qiskit_machine_learning.algorithms import VQC, QSVC\n",
    "from qiskit_machine_learning.circuit.library import RawFeatureVector\n",
    "from qiskit.circuit.library import RealAmplitudes, ZZFeatureMap, ZFeatureMap, NLocal\n",
    "from qiskit import QuantumCircuit\n",
    "from qiskit.circuit import Parameter\n",
    "from qiskit_machine_learning.kernels import QuantumKernel"
   ]
  },
  {
   "cell_type": "code",
   "execution_count": 58,
   "id": "f75fd908-2b5a-4038-9494-ce0c2dd7d47c",
   "metadata": {
    "tags": []
   },
   "outputs": [],
   "source": [
    "import numpy as np\n",
    "from sklearn import svm, metrics\n",
    "from sklearn.metrics import classification_report, confusion_matrix\n",
    "from time import time\n",
    "from sklearn.linear_model import LogisticRegression\n",
    "import lightgbm as lgb"
   ]
  },
  {
   "cell_type": "code",
   "execution_count": 59,
   "id": "eb086b52-a16b-4f30-af7a-ada122dbaf4d",
   "metadata": {
    "tags": []
   },
   "outputs": [],
   "source": [
    "train_data = np.load('train_data.npy')\n",
    "train_labels = np.load('train_labels.npy')\n",
    "test_data = np.load('test_data.npy')\n",
    "test_labels = np.load('test_labels.npy')\n",
    "train_data = train_data[:320]\n",
    "train_labels = train_labels[:320]"
   ]
  },
  {
   "cell_type": "code",
   "execution_count": 60,
   "id": "c95989f6-e060-4966-b640-923617b0c728",
   "metadata": {
    "tags": []
   },
   "outputs": [
    {
     "name": "stderr",
     "output_type": "stream",
     "text": [
      "/tmp/ipykernel_60/2013221661.py:14: DeprecationWarning: The class ``qiskit.utils.quantum_instance.QuantumInstance`` is deprecated as of qiskit-terra 0.24.0. It will be removed no earlier than 3 months after the release date. For code migration guidelines, visit https://qisk.it/qi_migration.\n",
      "  quantum_instance=QuantumInstance(BasicAer.get_backend('statevector_simulator'),\n"
     ]
    }
   ],
   "source": [
    "seed = 1376\n",
    "\n",
    "#feature dimensions\n",
    "feature_dim = train_data.shape[1]\n",
    "\n",
    "#feature map to calculate kernel of QSVM\n",
    "feature_map = ZZFeatureMap(feature_dim)\n",
    "\n",
    "#initialize LGBM classifier\n",
    "clf = lgb.LGBMClassifier()\n",
    "\n",
    "#initialize kernel of QSVM\n",
    "kernel = QuantumKernel(feature_map=feature_map,\n",
    "                             quantum_instance=QuantumInstance(BasicAer.get_backend('statevector_simulator'),\n",
    "                                            shots=1,\n",
    "                                            seed_simulator=seed,\n",
    "                                                              seed_transpiler=seed))\n",
    "\n",
    "#initialize QSVM\n",
    "qsvc = QSVC(quantum_kernel=kernel)\n",
    "lr = LogisticRegression()"
   ]
  },
  {
   "cell_type": "code",
   "execution_count": 61,
   "id": "9dfc0c64-e6d8-421e-ab9a-17fabde8a502",
   "metadata": {
    "tags": []
   },
   "outputs": [],
   "source": [
    "#train base classifiers and append features to data\n",
    "\n",
    "def level_0():\n",
    "    \n",
    "    #Use QSVM and LGBM on train data, append the predicted labels on train data to train data features\n",
    "    clf.fit(train_data,train_labels_svm)\n",
    "    b = clf.predict(train_data)\n",
    "    label_2 = np.reshape(b,(len(b),1))\n",
    "    qsvc.fit(train_data, train_labels_svm)\n",
    "    c = qsvc.predict(train_data)\n",
    "    label_3 = np.reshape(c,(len(c),1))\n",
    "    t1 = np.append(train_data,label_2,1)\n",
    "    train_added = np.append(t1,label_3,1)\n",
    "    \n",
    "    #append the predicted labels on test data to test data features\n",
    "    e = clf.predict(test_data)\n",
    "    label_5 = np.reshape(e,(len(e),1))\n",
    "    f = qsvc.predict(test_data)\n",
    "    label_6 = np.reshape(f,(len(f),1))\n",
    "    t3 = np.append(test_data,label_5,1)\n",
    "    test_added = np.append(t3,label_6,1)\n",
    "    \n",
    "    return train_added,test_added"
   ]
  },
  {
   "cell_type": "code",
   "execution_count": 62,
   "id": "313be5f2-cfb6-4c2d-9e73-9ae7f4ddfcd0",
   "metadata": {
    "tags": []
   },
   "outputs": [
    {
     "name": "stdout",
     "output_type": "stream",
     "text": [
      "training time :  207.79699516296387\n"
     ]
    }
   ],
   "source": [
    "# initialize logistic regressor and get appended train and test data\n",
    "\n",
    "start_time = time()\n",
    "train_added, test_added = level_0()\n",
    "end_time = time()\n",
    "duration = end_time - start_time\n",
    "print(\"training time : \", duration)"
   ]
  },
  {
   "cell_type": "code",
   "execution_count": 63,
   "id": "003cb8ba-5f4a-418e-9651-1f422f7ee25f",
   "metadata": {
    "tags": []
   },
   "outputs": [
    {
     "name": "stdout",
     "output_type": "stream",
     "text": [
      "training_data (320, 7)\n",
      "training time :  0.08641576766967773\n"
     ]
    }
   ],
   "source": [
    "#train logistic regressor using appended train data\n",
    "\n",
    "start_time = time()\n",
    "print(\"training_data\", train_data.shape)\n",
    "lr.fit(train_added, train_labels_svm)\n",
    "end_time = time()\n",
    "duration = end_time - start_time\n",
    "print(\"training time : \", duration)"
   ]
  },
  {
   "cell_type": "code",
   "execution_count": 64,
   "id": "d3542edd-f1d6-4671-8c69-3cc51cc1789a",
   "metadata": {
    "tags": []
   },
   "outputs": [
    {
     "name": "stdout",
     "output_type": "stream",
     "text": [
      "testing time :  0.002714395523071289\n",
      "              precision    recall  f1-score   support\n",
      "\n",
      "           0       1.00      0.91      0.95     10000\n",
      "           1       0.51      0.97      0.67      1000\n",
      "\n",
      "    accuracy                           0.91     11000\n",
      "   macro avg       0.75      0.94      0.81     11000\n",
      "weighted avg       0.95      0.91      0.92     11000\n",
      "\n",
      "[[9081  919]\n",
      " [  33  967]]\n"
     ]
    }
   ],
   "source": [
    "# predict on appended test data\n",
    "\n",
    "start_time1 = time()\n",
    "y_pred_1 = lr.predict(test_added)\n",
    "end_time1 = time()\n",
    "duration1 = end_time1 - start_time1\n",
    "print(\"testing time : \", duration1)\n",
    "print(classification_report(test_labels_svm,y_pred_1))\n",
    "print(confusion_matrix(test_labels_svm,y_pred_1))"
   ]
  },
  {
   "cell_type": "code",
   "execution_count": 65,
   "id": "04b3a36e-9ce4-4f29-9c66-97e1b3c81a1f",
   "metadata": {
    "tags": []
   },
   "outputs": [
    {
     "data": {
      "text/plain": [
       "array([1, 1, 1, ..., 0, 0, 0])"
      ]
     },
     "execution_count": 65,
     "metadata": {},
     "output_type": "execute_result"
    }
   ],
   "source": [
    "# Output:\n",
    "y_pred_1"
   ]
  },
  {
   "cell_type": "code",
   "execution_count": 66,
   "id": "ecd0d2d4-cdef-4c07-80c4-a4f2db3adaf0",
   "metadata": {},
   "outputs": [
    {
     "data": {
      "image/png": "[encoded data removed]",
      "text/plain": [
       "<Figure size 800x600 with 1 Axes>"
      ]
     },
     "metadata": {},
     "output_type": "display_data"
    }
   ],
   "source": [
    "import matplotlib.pyplot as plt\n",
    "import seaborn as sns\n",
    "\n",
    "# Compute the confusion matrix\n",
    "cm = confusion_matrix(test_labels_svm, y_pred_1)\n",
    "\n",
    "# Create a heatmap visualization of the confusion matrix\n",
    "plt.figure(figsize=(8, 6))\n",
    "sns.heatmap(cm, annot=True, cmap=\"Blues\", fmt=\"d\", cbar=False)\n",
    "plt.xlabel(\"Predicted Labels\")\n",
    "plt.ylabel(\"True Labels\")\n",
    "plt.title(\"Confusion Matrix\")\n",
    "plt.show()"
   ]
  },
  {
   "cell_type": "code",
   "execution_count": null,
   "id": "aeca3de7-73fc-4533-b8dc-1c90a61e7dff",
   "metadata": {},
   "outputs": [],
   "source": []
  }
 ],
 "metadata": {
  "kernelspec": {
   "display_name": "Python 3 (ipykernel)",
   "language": "python",
   "name": "python3"
  },
  "language_info": {
   "codemirror_mode": {
    "name": "ipython",
    "version": 3
   },
   "file_extension": ".py",
   "mimetype": "text/x-python",
   "name": "python",
   "nbconvert_exporter": "python",
   "pygments_lexer": "ipython3",
   "version": "3.10.8"
  },
  "widgets": {
   "application/vnd.jupyter.widget-state+json": {
    "state": {
     "050c18e0aa834da4a8c3e1315c8dc499": {
      "model_module": "@jupyter-widgets/base",
      "model_module_version": "2.0.0",
      "model_name": "LayoutModel",
      "state": {
       "grid_area": "right",
       "padding": "0px 0px 0px 0px",
       "width": "70px"
      }
     },
     "19aa1d49c40e4a9397dce536d4749d51": {
      "model_module": "@jupyter-widgets/controls",
      "model_module_version": "2.0.0",
      "model_name": "GridBoxModel",
      "state": {
       "children": [
        "IPY_MODEL_68dea5a4b89a4452bdfb9c61ed31dd3d"
       ],
       "layout": "IPY_MODEL_ec6029dece824887830b6a08203e3deb"
      }
     },
     "1b24f35fa9cc410382a0b2703531df37": {
      "model_module": "@jupyter-widgets/controls",
      "model_module_version": "2.0.0",
      "model_name": "HTMLStyleModel",
      "state": {
       "description_width": "",
       "font_size": null,
       "text_color": null
      }
     },
     "1d3858659a784cdc884e4d1e05aa92f7": {
      "model_module": "@jupyter-widgets/controls",
      "model_module_version": "2.0.0",
      "model_name": "HTMLStyleModel",
      "state": {
       "description_width": "",
       "font_size": null,
       "text_color": null
      }
     },
     "26e7e1de77a448bd9b5ea9f09fd76afe": {
      "model_module": "@jupyter-widgets/controls",
      "model_module_version": "2.0.0",
      "model_name": "HTMLStyleModel",
      "state": {
       "description_width": "",
       "font_size": null,
       "text_color": null
      }
     },
     "2d03966768394412a20fc063545dbda2": {
      "model_module": "@jupyter-widgets/controls",
      "model_module_version": "2.0.0",
      "model_name": "HTMLModel",
      "state": {
       "layout": "IPY_MODEL_35cd0f0e79084ae0acaf88363a75999c",
       "style": "IPY_MODEL_1b24f35fa9cc410382a0b2703531df37",
       "value": "<h5>Backend</h5>"
      }
     },
     "33bdc32104704cb29fe81db7f414543b": {
      "model_module": "@jupyter-widgets/base",
      "model_module_version": "2.0.0",
      "model_name": "LayoutModel",
      "state": {
       "margin": "0px 0px 0px 37px",
       "width": "600px"
      }
     },
     "35cd0f0e79084ae0acaf88363a75999c": {
      "model_module": "@jupyter-widgets/base",
      "model_module_version": "2.0.0",
      "model_name": "LayoutModel",
      "state": {
       "width": "145px"
      }
     },
     "36bddb1aa3bc4a3a81b7c013d18d285f": {
      "model_module": "@jupyter-widgets/controls",
      "model_module_version": "2.0.0",
      "model_name": "HTMLModel",
      "state": {
       "layout": "IPY_MODEL_a1fd3df703e94a9bbc373d23cf565d01",
       "style": "IPY_MODEL_1d3858659a784cdc884e4d1e05aa92f7",
       "value": "<h5>Job ID</h5>"
      }
     },
     "44848d1afc514fdaa42e620d4894091d": {
      "model_module": "@jupyter-widgets/controls",
      "model_module_version": "2.0.0",
      "model_name": "HTMLModel",
      "state": {
       "layout": "IPY_MODEL_89168f20d8c94611baf5f685d390639c",
       "style": "IPY_MODEL_c2f96cafd48a499eabacda94161c9fd9",
       "value": "<h5>Status</h5>"
      }
     },
     "49c907d1fbd04b14be2eb2ff67a82438": {
      "model_module": "@jupyter-widgets/base",
      "model_module_version": "2.0.0",
      "model_name": "LayoutModel",
      "state": {}
     },
     "68dea5a4b89a4452bdfb9c61ed31dd3d": {
      "model_module": "@jupyter-widgets/controls",
      "model_module_version": "2.0.0",
      "model_name": "ButtonModel",
      "state": {
       "button_style": "primary",
       "description": "Clear",
       "layout": "IPY_MODEL_050c18e0aa834da4a8c3e1315c8dc499",
       "style": "IPY_MODEL_795936c68eb24714892b13d4a47f3e3a",
       "tooltip": null
      }
     },
     "691907a17c56409fb9b48fabb1aa2df9": {
      "model_module": "@jupyter-widgets/controls",
      "model_module_version": "2.0.0",
      "model_name": "HTMLStyleModel",
      "state": {
       "description_width": "",
       "font_size": null,
       "text_color": null
      }
     },
     "795936c68eb24714892b13d4a47f3e3a": {
      "model_module": "@jupyter-widgets/controls",
      "model_module_version": "2.0.0",
      "model_name": "ButtonStyleModel",
      "state": {
       "font_family": null,
       "font_size": null,
       "font_style": null,
       "font_variant": null,
       "font_weight": null,
       "text_color": null,
       "text_decoration": null
      }
     },
     "89168f20d8c94611baf5f685d390639c": {
      "model_module": "@jupyter-widgets/base",
      "model_module_version": "2.0.0",
      "model_name": "LayoutModel",
      "state": {
       "width": "95px"
      }
     },
     "941336d278e04f49abc3767d10fe46c1": {
      "model_module": "@jupyter-widgets/controls",
      "model_module_version": "2.0.0",
      "model_name": "HTMLStyleModel",
      "state": {
       "description_width": "",
       "font_size": null,
       "text_color": null
      }
     },
     "a1fd3df703e94a9bbc373d23cf565d01": {
      "model_module": "@jupyter-widgets/base",
      "model_module_version": "2.0.0",
      "model_name": "LayoutModel",
      "state": {
       "width": "190px"
      }
     },
     "bfc22cd132624f2cb4c5287b91c107f2": {
      "model_module": "@jupyter-widgets/base",
      "model_module_version": "2.0.0",
      "model_name": "LayoutModel",
      "state": {
       "margin": "0px 0px 10px 0px"
      }
     },
     "c18dc9d4334a4d688c92401ab789b1c4": {
      "model_module": "@jupyter-widgets/base",
      "model_module_version": "2.0.0",
      "model_name": "LayoutModel",
      "state": {
       "width": "70px"
      }
     },
     "c2f96cafd48a499eabacda94161c9fd9": {
      "model_module": "@jupyter-widgets/controls",
      "model_module_version": "2.0.0",
      "model_name": "HTMLStyleModel",
      "state": {
       "description_width": "",
       "font_size": null,
       "text_color": null
      }
     },
     "c6527a81cade406199da70b0ce391a11": {
      "model_module": "@jupyter-widgets/controls",
      "model_module_version": "2.0.0",
      "model_name": "HTMLModel",
      "state": {
       "layout": "IPY_MODEL_bfc22cd132624f2cb4c5287b91c107f2",
       "style": "IPY_MODEL_941336d278e04f49abc3767d10fe46c1",
       "value": "<p style='font-family: IBM Plex Sans, Arial, Helvetica, sans-serif; font-size: 20px; font-weight: medium;'>Circuit Properties</p>"
      }
     },
     "c7843e87abe74663aace7333fa089a89": {
      "model_module": "@jupyter-widgets/controls",
      "model_module_version": "2.0.0",
      "model_name": "HTMLModel",
      "state": {
       "layout": "IPY_MODEL_49c907d1fbd04b14be2eb2ff67a82438",
       "style": "IPY_MODEL_26e7e1de77a448bd9b5ea9f09fd76afe",
       "value": "<h5>Message</h5>"
      }
     },
     "c7a51962a2224c9c8d3cec563f914f44": {
      "model_module": "@jupyter-widgets/controls",
      "model_module_version": "2.0.0",
      "model_name": "HTMLModel",
      "state": {
       "layout": "IPY_MODEL_c18dc9d4334a4d688c92401ab789b1c4",
       "style": "IPY_MODEL_691907a17c56409fb9b48fabb1aa2df9",
       "value": "<h5>Queue</h5>"
      }
     },
     "cbd3ba8139134397855591e7fc2ac832": {
      "model_module": "@jupyter-widgets/controls",
      "model_module_version": "2.0.0",
      "model_name": "HBoxModel",
      "state": {
       "children": [
        "IPY_MODEL_36bddb1aa3bc4a3a81b7c013d18d285f",
        "IPY_MODEL_2d03966768394412a20fc063545dbda2",
        "IPY_MODEL_44848d1afc514fdaa42e620d4894091d",
        "IPY_MODEL_c7a51962a2224c9c8d3cec563f914f44",
        "IPY_MODEL_c7843e87abe74663aace7333fa089a89"
       ],
       "layout": "IPY_MODEL_33bdc32104704cb29fe81db7f414543b"
      }
     },
     "ec6029dece824887830b6a08203e3deb": {
      "model_module": "@jupyter-widgets/base",
      "model_module_version": "2.0.0",
      "model_name": "LayoutModel",
      "state": {
       "grid_template_areas": "\n                                       \". . . . right \"\n                                        ",
       "grid_template_columns": "20% 20% 20% 20% 20%",
       "width": "100%"
      }
     }
    },
    "version_major": 2,
    "version_minor": 0
   }
  }
 },
 "nbformat": 4,
 "nbformat_minor": 5
}
